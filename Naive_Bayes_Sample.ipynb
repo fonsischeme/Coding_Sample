{
 "cells": [
  {
   "cell_type": "markdown",
   "metadata": {},
   "source": [
    "# Exploring Movie Comments with Naive Bayes\n",
    "\n",
    "I analyzed movie reviews in an attempt to determine whether movies are good or bad. I downloaded a dataset of movie reviews from the Rotten Tomatoes website which is available in the file \"reviews.csv\".\n",
    "\n",
    "The goal of this project is to build a predictor of freshness from movie quotes. Since the model is predicting results based on text data, I decided to use a Naive Bayes model. Naive Bayes has proven to be extremely effective at handling text data and, thus, is a good fit for this project.\n",
    "\n",
    "The end result is a Naive Bayes classifier to determine whether a movie is Good (Fresh) or Bad (Rotten) based on the contents of the reviews given to the movie."
   ]
  },
  {
   "cell_type": "code",
   "execution_count": 2,
   "metadata": {
    "collapsed": false
   },
   "outputs": [],
   "source": [
    "# Import Data\n",
    "%matplotlib inline\n",
    "import pandas as pd\n",
    "import numpy as np\n",
    "import matplotlib.pyplot as plt\n",
    "import itertools\n",
    "from operator import itemgetter\n",
    "\n",
    "### Import Sklearn Packages\n",
    "from sklearn.model_selection import train_test_split\n",
    "from sklearn.metrics import confusion_matrix\n",
    "from sklearn.naive_bayes import MultinomialNB\n",
    "from sklearn.feature_extraction.text import CountVectorizer"
   ]
  },
  {
   "cell_type": "code",
   "execution_count": 4,
   "metadata": {
    "collapsed": false
   },
   "outputs": [],
   "source": [
    "# Load Data\n",
    "reviews = pd.read_csv('reviews.csv')\n",
    "\n",
    "### Clean Reivew DataFrame\n",
    "reviews = reviews[~reviews.quote.isnull()] # remove rows that contain no string in the quote variable\n",
    "reviews = reviews[reviews.fresh != 'none'] # removes rows that have no 'string' in the fresh variable\n",
    "reviews = reviews[reviews.quote.str.len() > 0] # removes rows that have an empty string"
   ]
  },
  {
   "cell_type": "markdown",
   "metadata": {},
   "source": [
    "## Some Exploration!"
   ]
  },
  {
   "cell_type": "markdown",
   "metadata": {},
   "source": [
    "Before building the model, I wanted to explore the dataset to get a better understanding of what I was working with. I looked at the information available to me along with the counts and distributions of different features."
   ]
  },
  {
   "cell_type": "code",
   "execution_count": 5,
   "metadata": {
    "collapsed": false
   },
   "outputs": [
    {
     "name": "stdout",
     "output_type": "stream",
     "text": [
      "Index([u'critic', u'fresh', u'imdb', u'link', u'publication', u'quote',\n",
      "       u'review_date', u'rtid', u'title'],\n",
      "      dtype='object')\n",
      "               critic  fresh    imdb  \\\n",
      "0         Derek Adams  fresh  114709   \n",
      "1     Richard Corliss  fresh  114709   \n",
      "2         David Ansen  fresh  114709   \n",
      "3       Leonard Klady  fresh  114709   \n",
      "4  Jonathan Rosenbaum  fresh  114709   \n",
      "\n",
      "                                                link     publication  \\\n",
      "0  http://www.timeout.com/film/reviews/87745/toy-...        Time Out   \n",
      "1  http://www.time.com/time/magazine/article/0,91...   TIME Magazine   \n",
      "2                  http://www.newsweek.com/id/104199        Newsweek   \n",
      "3  http://www.variety.com/review/VE1117941294.htm...         Variety   \n",
      "4  http://onfilm.chicagoreader.com/movies/capsule...  Chicago Reader   \n",
      "\n",
      "                                               quote          review_date  \\\n",
      "0  So ingenious in concept, design and execution ...  2009-10-04 00:00:00   \n",
      "1                  The year's most inventive comedy.  2008-08-31 00:00:00   \n",
      "2  A winning animated feature that has something ...  2008-08-18 00:00:00   \n",
      "3  The film sports a provocative and appealing st...  2008-06-09 00:00:00   \n",
      "4  An entertaining computer-generated, hyperreali...  2008-03-10 00:00:00   \n",
      "\n",
      "   rtid      title  \n",
      "0  9559  Toy Story  \n",
      "1  9559  Toy Story  \n",
      "2  9559  Toy Story  \n",
      "3  9559  Toy Story  \n",
      "4  9559  Toy Story  \n"
     ]
    }
   ],
   "source": [
    "### Features of Dataset\n",
    "print reviews.columns\n",
    "print reviews.head()"
   ]
  },
  {
   "cell_type": "code",
   "execution_count": 13,
   "metadata": {
    "collapsed": false
   },
   "outputs": [
    {
     "name": "stdout",
     "output_type": "stream",
     "text": [
      "Number of reviews: 13419\n",
      "Number of unique reviews: 12814\n",
      "Number of unique reviewers: 541\n",
      "Number of unique movies in the reviews dataset: 1720\n",
      "Number of different publications that have reviews in the reviews dataset: 64\n"
     ]
    }
   ],
   "source": [
    "### Looking at different Features of Dataset\n",
    "print \"Number of reviews: {}\".format(len(reviews))\n",
    "print \"Number of unique reviews: {}\".format(len(reviews['quote'].unique()))\n",
    "print \"Number of unique reviewers: {}\".format(len(reviews['critic'].unique()))\n",
    "print \"Number of unique movies in the reviews dataset: {}\".format(len(reviews['imdb'].unique()))\n",
    "print \"Number of different publications that have reviews in the reviews dataset: {}\".format(len(reviews['publication'].unique()))"
   ]
  },
  {
   "cell_type": "markdown",
   "metadata": {},
   "source": [
    "Let's take a look at the contributions of each reviewer."
   ]
  },
  {
   "cell_type": "code",
   "execution_count": 7,
   "metadata": {
    "collapsed": true
   },
   "outputs": [],
   "source": [
    "def initialize_figure():\n",
    "    \"\"\"\n",
    "    initialize_figure\n",
    "    -----------------\n",
    "    This function intizilatized figures and removes the top and right axes.\n",
    "    \"\"\"\n",
    "    fig, ax = plt.subplots(figsize=(8,6))\n",
    "    ax.spines['top'].set_visible(False)\n",
    "    ax.spines['right'].set_visible(False)\n",
    "    ax.get_xaxis().tick_bottom()\n",
    "    ax.get_yaxis().tick_left()\n",
    "    return fig, ax"
   ]
  },
  {
   "cell_type": "code",
   "execution_count": 14,
   "metadata": {
    "collapsed": false
   },
   "outputs": [
    {
     "data": {
      "image/png": "[encoded data removed]",
      "text/plain": [
       "<matplotlib.figure.Figure at 0xe376978>"
      ]
     },
     "metadata": {},
     "output_type": "display_data"
    }
   ],
   "source": [
    "### Gather number of reviews per critic\n",
    "number_of_reviews = list()\n",
    "for g in reviews.groupby('critic'):\n",
    "    number_of_reviews.append(len(g[1]))\n",
    "    \n",
    "### Initialize and plot Histogram\n",
    "fig, ax = initialize_figure()\n",
    "plt.hist(number_of_reviews,bins=range(0, 31, 1),color='pink', edgecolor = \"none\", histtype='stepfilled')\n",
    "plt.axvline(np.mean(number_of_reviews), color='b', linestyle='dashed', linewidth=2)\n",
    "plt.axvline(np.median(number_of_reviews), color='k', linestyle='dashed', linewidth=2)\n",
    "### Set Labels\n",
    "plt.ylabel('Number of Reviewers')\n",
    "plt.xlabel('Number of Reviews')\n",
    "plt.title('Distribution of Reviews per Reviewer')\n",
    "plt.show()"
   ]
  },
  {
   "cell_type": "markdown",
   "metadata": {},
   "source": [
    "Most reviews are written by reviewers who write less than 4 reviews."
   ]
  },
  {
   "cell_type": "markdown",
   "metadata": {},
   "source": [
    "---\n",
    "\n",
    "## Building the Model\n",
    "\n",
    "I built a predictive model for movie reviews using a Naive Bayes Multinomial algorithm. I used a custom Naive Bayes Multinomial class to build the model. Then, I create a model using SciKit Learns toolkit for Machine Learning. In order to compare performance, I calculated accuracy on predicting both training and test data and visualized the confusion matrix for each model. The confusion matrix would be able to tell us which cases were confusing the model."
   ]
  },
  {
   "cell_type": "markdown",
   "metadata": {},
   "source": [
    "Before building the model, I created a bag-of-words dataset for the review data"
   ]
  },
  {
   "cell_type": "code",
   "execution_count": 17,
   "metadata": {
    "collapsed": true
   },
   "outputs": [],
   "source": [
    "def make_xy(reviews, vectorizer=None):\n",
    "    \"\"\"\n",
    "    make_xy\n",
    "    -------\n",
    "    Builds a bag-of-words data set for the review data\n",
    "\n",
    "    Parameters\n",
    "    ----------\n",
    "    reviews : Pandas DataFrame\n",
    "    \n",
    "    vectorizer : CountVectorizer object (optional)\n",
    "        A CountVectorizer object to use. If None,\n",
    "        then create and fit a new CountVectorizer.\n",
    "        Otherwise, re-fit the provided CountVectorizer\n",
    "        using the reviews data\n",
    "    \n",
    "    Returns\n",
    "    -------\n",
    "    X : numpy array (dims: nreview, nwords)\n",
    "        Bag-of-words representation for each review.\n",
    "    Y : numpy array (dims: nreview)\n",
    "        1/0 array. 1 = fresh review, 0 = rotten review\n",
    "\n",
    "    Examples\n",
    "    --------\n",
    "    X, Y = make_xy(reviews)\n",
    "    \"\"\"\n",
    "    if vectorizer == None:   \n",
    "        vectorizer = CountVectorizer(min_df=0)\n",
    "    vectorizer.fit(reviews.quote)\n",
    "    X = np.array(vectorizer.transform(reviews.quote).todense())\n",
    "    Y = np.array(reviews.fresh.replace({'fresh':1.0,'rotten':0.0}))\n",
    "    return X, Y"
   ]
  },
  {
   "cell_type": "code",
   "execution_count": 18,
   "metadata": {
    "collapsed": true
   },
   "outputs": [],
   "source": [
    "X, Y = make_xy(reviews)"
   ]
  },
  {
   "cell_type": "markdown",
   "metadata": {},
   "source": [
    "The data is then split into training and testing data."
   ]
  },
  {
   "cell_type": "code",
   "execution_count": 19,
   "metadata": {
    "collapsed": true
   },
   "outputs": [],
   "source": [
    "X_train, X_test, y_train, y_test = train_test_split(X,Y,test_size=0.33, random_state=0)"
   ]
  },
  {
   "cell_type": "markdown",
   "metadata": {},
   "source": [
    "Next, a custom Naive Bayes Multinomial class was used to build the model."
   ]
  },
  {
   "cell_type": "code",
   "execution_count": 20,
   "metadata": {
    "collapsed": false
   },
   "outputs": [],
   "source": [
    "class Naive_Bayes_Multinomial:\n",
    "    \"\"\"\n",
    "    Naive_Bayes_Multinomial\n",
    "    ---\n",
    "    Constructs a Naive Bayes Multinomial object from training and testing data.\n",
    "    \n",
    "    Parameters\n",
    "    ----------\n",
    "    X: Matrix capturing the distribution of features\n",
    "    \n",
    "    y: Array capture the true values of y\n",
    "    \n",
    "    training: Matrix containing the distribution of features, the final column contains the class values\n",
    "    \n",
    "    alpha: Additive smoothing parameter \n",
    "    \n",
    "    Examples\n",
    "    --------\n",
    "    fitted_model = Naive_Bayes_Multinomial(X,y,training,alpha=0.005)\n",
    "    \"\"\"\n",
    "    def __init__(self, X, y, training, alpha=0.01):\n",
    "        self.X = X\n",
    "        self.truths = y\n",
    "        self.num_of_class = len(np.unique(y))\n",
    "        self.data = training\n",
    "        self.count_sample = X.shape[0]\n",
    "        self.alpha = alpha\n",
    "        self.clp, self.flp = self.__fitter()\n",
    "        self.predictions = self.__predict()\n",
    "    \n",
    "    def __separate_by_category(self):\n",
    "        \"\"\"\n",
    "        separate_by_category\n",
    "        --------------------\n",
    "        Separated each training sample into n groups (n=number of classes)\n",
    "        \n",
    "        Returns\n",
    "        -------\n",
    "        separated: dictionary of lists of training data points with each class set as the key\n",
    "        \"\"\"\n",
    "        separated = dict()\n",
    "        for i in range(len(self.data)):\n",
    "            vector = self.data[i,:]\n",
    "            if vector[-1] not in separated:\n",
    "                separated[vector[-1]] = []\n",
    "            separated[vector[-1]].append(vector[:-1])\n",
    "        return separated\n",
    "\n",
    "    def __class_log_prior (self,seperated):\n",
    "        \"\"\"\n",
    "        class_log_prior\n",
    "        ---------------\n",
    "        calculates the base probability for each class\n",
    "        \n",
    "        Returns\n",
    "        -------\n",
    "        List of floats\n",
    "        \"\"\"\n",
    "        return [np.log(len(i) / float(self.count_sample)) for i in seperated.values()]\n",
    "\n",
    "    def __counter (self,separated):\n",
    "        \"\"\"\n",
    "        counter\n",
    "        -------\n",
    "        calculates the distribution of features by each class\n",
    "        \n",
    "        Returns\n",
    "        -------\n",
    "        Array of counts\n",
    "        \"\"\"\n",
    "        return np.array([np.array(i).sum(axis=0) for i in separated.values()]) + self.alpha\n",
    "\n",
    "    def __fitter(self):\n",
    "        \"\"\"\n",
    "        fitter\n",
    "        ------\n",
    "        Fits a Naive Bayes Multinomial to a training set.\n",
    "        \n",
    "        Returns\n",
    "        -------\n",
    "        clp (class log priors): a list of default class probabilities (P(c))\n",
    "        \n",
    "        flp (feature log priors): a list of probability of a feature given a class (P(f|c))\n",
    "        \"\"\"\n",
    "        seperated = self.__separate_by_category()\n",
    "        clp = self.__class_log_prior(seperated)\n",
    "        count = self.__counter(seperated)\n",
    "        flp = np.log10(count / count.sum(axis=1)[np.newaxis].T)\n",
    "        return clp, flp\n",
    "\n",
    "    def __predict_log_proba(self):\n",
    "        \"\"\"\n",
    "        predict_log_proba\n",
    "        -----------------\n",
    "        calculates the log probabilities of each class for the testing data\n",
    "        \n",
    "        Return\n",
    "        ------\n",
    "        An array of log probabilties\n",
    "        \"\"\"\n",
    "        return [(self.flp * x).sum(axis=1) + self.clp for x in self.X]\n",
    "\n",
    "    def __predict(self):\n",
    "        \"\"\"\n",
    "        predict\n",
    "        -------\n",
    "        predicts the class of a test case based on the log probabilties\n",
    "        \n",
    "        Return\n",
    "        ------\n",
    "        A list of class predictions\n",
    "        \"\"\"\n",
    "        log_proba = self.__predict_log_proba()\n",
    "        return np.argmax(log_proba, axis=1)\n",
    "\n",
    "    def get_accuracy(self):\n",
    "        \"\"\"\n",
    "        get_accuracy\n",
    "        ------------\n",
    "        calculates accuracy of model\n",
    "        \n",
    "        Return\n",
    "        ------\n",
    "        float\n",
    "        \"\"\"\n",
    "        correct = 0\n",
    "        for x in range(len(self.truths)):\n",
    "            if self.truths[x] == self.predictions[x]:\n",
    "                correct += 1\n",
    "        return correct/float(len(self.truths))\n",
    "    \n",
    "    def get_confusion_matrix(self):\n",
    "        \"\"\"\n",
    "        get_confusion_matrix\n",
    "        --------------------\n",
    "        generates a confusion matrix for the model\n",
    "        \n",
    "        Return\n",
    "        ------\n",
    "        a numpy matrix\n",
    "        \"\"\"\n",
    "        confusion_matrix = np.zeros((self.num_of_class,self.num_of_class))\n",
    "        for x in range(len(self.truths)):\n",
    "            confusion_matrix[int(self.truths[x])][int(self.predictions[x])] += 1\n",
    "        return confusion_matrix"
   ]
  },
  {
   "cell_type": "code",
   "execution_count": 21,
   "metadata": {
    "collapsed": false
   },
   "outputs": [],
   "source": [
    "def plot_confusion_matrix(cm, classes, normalize=False,title='Confusion matrix',cmap=plt.cm.Blues):\n",
    "    \"\"\"\n",
    "    plot_confusion_matrix\n",
    "    ---------------------\n",
    "    This function prints and plots the confusion matrix.\n",
    "    Normalization can be applied by setting `normalize=True`.\n",
    "    \n",
    "    Parameters\n",
    "    ----------\n",
    "    cm : Numpy Matrix\n",
    "    \n",
    "    classes : a list of classes\n",
    "    \n",
    "    normalizae: Bool\n",
    "    \n",
    "    title: str that titles\n",
    "\n",
    "    Examples\n",
    "    --------\n",
    "    X, Y = make_xy(reviews)\n",
    "    \"\"\"\n",
    "    plt.imshow(cm, interpolation='nearest', cmap=cmap)\n",
    "    plt.title(title)\n",
    "    plt.colorbar()\n",
    "    tick_marks = np.arange(len(classes))\n",
    "    plt.xticks(tick_marks, classes, rotation=45)\n",
    "    plt.yticks(tick_marks, classes)\n",
    "\n",
    "    if normalize:\n",
    "        cm = cm.astype('float') / cm.sum(axis=1)[:, np.newaxis]\n",
    "        print(\"Normalized confusion matrix\")\n",
    "    else:\n",
    "        print('Confusion matrix, without normalization')\n",
    "\n",
    "    print(cm)\n",
    "\n",
    "    thresh = cm.max() / 2.\n",
    "    for i, j in itertools.product(range(cm.shape[0]), range(cm.shape[1])):\n",
    "        plt.text(j, i, cm[i, j],\n",
    "                 horizontalalignment=\"center\",\n",
    "                 color=\"white\" if cm[i, j] > thresh else \"black\")\n",
    "\n",
    "    plt.tight_layout()\n",
    "    plt.ylabel('True label')\n",
    "    plt.xlabel('Predicted label')"
   ]
  },
  {
   "cell_type": "code",
   "execution_count": 23,
   "metadata": {
    "collapsed": false
   },
   "outputs": [
    {
     "name": "stdout",
     "output_type": "stream",
     "text": [
      "Training\n",
      "\n",
      "Accuracy: 0.954616240267\n",
      "\n",
      "Confusion matrix, without normalization\n",
      "[[ 3103.   271.]\n",
      " [  137.  5479.]]\n"
     ]
    },
    {
     "data": {
      "image/png": "[encoded data removed]",
      "text/plain": [
       "<matplotlib.figure.Figure at 0x4038400>"
      ]
     },
     "metadata": {},
     "output_type": "display_data"
    },
    {
     "name": "stdout",
     "output_type": "stream",
     "text": [
      "Testing\n",
      "\n",
      "Accuracy: 0.733122601039\n",
      "\n",
      "Confusion matrix, without normalization\n",
      "[[  910.   746.]\n",
      " [  436.  2337.]]\n"
     ]
    },
    {
     "data": {
      "image/png": "[encoded data removed]",
      "text/plain": [
       "<matplotlib.figure.Figure at 0xd4560b8>"
      ]
     },
     "metadata": {},
     "output_type": "display_data"
    }
   ],
   "source": [
    "training_data = data = np.hstack((X_train,y_train.reshape(len(y_train),1)))\n",
    "classes = np.unique(y_train)\n",
    "\n",
    "mnd = Naive_Bayes_Multinomial(X_train,y_train,training_data,0.01)\n",
    "print \"Training\\n\"\n",
    "print \"Accuracy: {}\\n\".format(mnd.get_accuracy())\n",
    "cm = mnd.get_confusion_matrix()\n",
    "plot_confusion_matrix(cm,classes,title='Confusion matrix for Training',cmap=plt.cm.YlOrRd)\n",
    "plt.show()\n",
    "\n",
    "mnd = Naive_Bayes_Multinomial(X_test,y_test,training_data,0.01)\n",
    "print \"Testing\\n\"\n",
    "print \"Accuracy: {}\\n\".format(mnd.get_accuracy())\n",
    "cm = mnd.get_confusion_matrix()\n",
    "plot_confusion_matrix(cm,classes,title='Confusion matrix for Testing',cmap=plt.cm.YlGnBu)\n",
    "plt.show()"
   ]
  },
  {
   "cell_type": "markdown",
   "metadata": {},
   "source": [
    "Finally, the model's accuracy was compared to the accuracy of a model built using sklearns MultinomialNB class."
   ]
  },
  {
   "cell_type": "code",
   "execution_count": 24,
   "metadata": {
    "collapsed": false
   },
   "outputs": [
    {
     "name": "stdout",
     "output_type": "stream",
     "text": [
      "Training Accuracy for sklearn model: 0.925139043382\n",
      "Confusion matrix, without normalization\n",
      "[[2864  510]\n",
      " [ 163 5453]]\n"
     ]
    },
    {
     "data": {
      "image/png": "[encoded data removed]",
      "text/plain": [
       "<matplotlib.figure.Figure at 0xdaea518>"
      ]
     },
     "metadata": {},
     "output_type": "display_data"
    },
    {
     "name": "stdout",
     "output_type": "stream",
     "text": [
      "Testing Accuracy for sklearn model: 0.776473244525\n",
      "Confusion matrix, without normalization\n",
      "[[ 968  688]\n",
      " [ 302 2471]]\n"
     ]
    },
    {
     "data": {
      "image/png": "[encoded data removed]",
      "text/plain": [
       "<matplotlib.figure.Figure at 0xeeaccc0>"
      ]
     },
     "metadata": {},
     "output_type": "display_data"
    }
   ],
   "source": [
    "clf = MultinomialNB()\n",
    "fitted_model = clf.fit(X_train,y_train)\n",
    "\n",
    "y_pred = fitted_model.predict(X_train)\n",
    "cm = confusion_matrix(y_train,y_pred)\n",
    "print \"Training Accuracy for sklearn model: {}\".format(fitted_model.score(X_train, y_train))\n",
    "plot_confusion_matrix(cm,classes,title='Confusion matrix for Training',cmap=plt.cm.YlOrRd)\n",
    "plt.show()\n",
    "\n",
    "y_pred = fitted_model.predict(X_test)\n",
    "cm = confusion_matrix(y_test,y_pred)\n",
    "print \"Testing Accuracy for sklearn model: {}\".format(fitted_model.score(X_test, y_test))\n",
    "plot_confusion_matrix(cm,classes,title='Confusion matrix for Testing',cmap=plt.cm.YlGnBu)\n",
    "plt.show()"
   ]
  },
  {
   "cell_type": "markdown",
   "metadata": {},
   "source": [
    "The custom Naive Bayes object seems to be overfitting the data as demonstrated by its higher accuracy on the training data and the lower accuracy on the testing data. However, the accuarcies of both the training and testing are comparable. The confusion matrices show the the model is likely to make a Type I Error classifying a \"Rotten\" case as \"Fresh\".\n",
    "\n",
    "---\n",
    "\n",
    "## Exploring the Errors\n",
    "\n",
    "To better understand what is happening, I will look at the cases the model is getting wrong."
   ]
  },
  {
   "cell_type": "code",
   "execution_count": 25,
   "metadata": {
    "collapsed": false
   },
   "outputs": [
    {
     "name": "stdout",
     "output_type": "stream",
     "text": [
      "Rotten\n",
      "The year's most inventive comedy.\n",
      "The film sports a provocative and appealing story that's every bit the equal of this technical achievement.\n",
      "Children will enjoy a new take on the irresistible idea of toys coming to life. Adults will marvel at a witty script and utterly brilliant anthropomorphism.\n",
      "Disney's first computer-made animated feature is a 3-D eye popper.\n",
      "Walter Matthau and Jack Lemmon are awfully good at this sort of thing.\n",
      "\n",
      "Fresh\n",
      "Just don't expect their bickering to be on the level of Neil Simon, and you won't be disappointed.\n",
      "Sudden Death is one of the best action thrillers of 1995. It's also the film Jean-Claude Van Damme has been building up to for 10 years.\n",
      "Supercharged with spectacular, thundering, brain-numbing fun.\n",
      "What it finally adds up to is a huge mixed bag of waxworks and daring, a film that is furiously ambitious even when it goes flat, and startling even when it settles for eerie, movie-of-the-week mimicry.\n",
      "The sensibility may be a bit off, but there is more than enough sense involved in this mid-Atlantic Austen to make up the difference.\n"
     ]
    }
   ],
   "source": [
    "#Your code here\n",
    "wrong = {0:list(),1:list()}\n",
    "predict = fitted_model.predict(X_test)\n",
    "for i in range(len(predict)):\n",
    "    if predict[i] != y_test[i]:\n",
    "        wrong[y_test[i]].append(i)\n",
    "print \"Rotten\"\n",
    "for w in wrong[0][0:5]:\n",
    "    print reviews.quote[w]\n",
    "print \"\\nFresh\"\n",
    "for w in wrong[1][0:5]:\n",
    "    print reviews.quote[w]"
   ]
  },
  {
   "cell_type": "markdown",
   "metadata": {
    "collapsed": true
   },
   "source": [
    "It appears that the model seems to be misclassifying cases which quotes have heavy sarcasism or rely on some semantic meaning not embedded in the frequency of the words. How to automatically detect sarcasm is still unclear and an area of active research.\n",
    "\n",
    "---\n",
    "\n",
    "## Closing Remarks\n",
    "\n",
    "Naive Bayes performed well in predicting whether or not a movie was \"Fresh\"/\"Rotten\" using quotes. Our testing accuracies float around 75%. The confusion matrix seems to suggest that the model is more likely to make a Type I Error classifying a \"Rotten\" case as \"Fresh\".. When we look closer at the data, the model struggles to capture sarcastic reviews. A future model should make an attempt add sarcasism as a feature for the future."
   ]
  },
  {
   "cell_type": "code",
   "execution_count": null,
   "metadata": {
    "collapsed": true
   },
   "outputs": [],
   "source": []
  }
 ],
 "metadata": {
  "anaconda-cloud": {},
  "kernelspec": {
   "display_name": "Python [Root]",
   "language": "python",
   "name": "Python [Root]"
  },
  "language_info": {
   "codemirror_mode": {
    "name": "ipython",
    "version": 2
   },
   "file_extension": ".py",
   "mimetype": "text/x-python",
   "name": "python",
   "nbconvert_exporter": "python",
   "pygments_lexer": "ipython2",
   "version": "2.7.12"
  }
 },
 "nbformat": 4,
 "nbformat_minor": 0
}
